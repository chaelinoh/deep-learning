{
  "nbformat": 4,
  "nbformat_minor": 0,
  "metadata": {
    "colab": {
      "provenance": [],
      "authorship_tag": "ABX9TyO/fqDOqIgFWvNkgoLsg3cO",
      "include_colab_link": true
    },
    "kernelspec": {
      "name": "python3",
      "display_name": "Python 3"
    },
    "language_info": {
      "name": "python"
    },
    "accelerator": "GPU",
    "gpuClass": "standard"
  },
  "cells": [
    {
      "cell_type": "markdown",
      "metadata": {
        "id": "view-in-github",
        "colab_type": "text"
      },
      "source": [
        "<a href=\"https://colab.research.google.com/github/chaelinoh/deep-learning/blob/main/CNN_%EC%9D%B4%EB%AF%B8%EC%A7%80%ED%95%99%EC%8A%B5.ipynb\" target=\"_parent\"><img src=\"https://colab.research.google.com/assets/colab-badge.svg\" alt=\"Open In Colab\"/></a>"
      ]
    },
    {
      "cell_type": "markdown",
      "source": [
        "##옷 사진을 구분하는 AI를 만들어보자\n",
        "- keras fashion_mnist dataset 이용\n",
        "- 옷이 어떤 종류인지 확률로 예측하는 프로그램을 작성해보았다.\n"
      ],
      "metadata": {
        "id": "h3qZvwqPHYBy"
      }
    },
    {
      "cell_type": "code",
      "source": [
        "import tensorflow as tf\n",
        "import matplotlib.pyplot as plt\n",
        "import numpy as np\n",
        "\n",
        "(trainX, trainY), (testX,testY)  = tf.keras.datasets.fashion_mnist.load_data()\n",
        "\n",
        "\"\"\"이미지 데이터 전처리 (0~255를 넣는 거를 0~1로 압축해서 넣는다 / 선택사항)\n",
        "trainX = trainX /255.0\n",
        "testX = testX / 255.0\"\"\"\n",
        "\n",
        "#numpy array 자료의 shape변경\n",
        "trainX = trainX.reshape((trainX.shape[0], 28, 28, 1))\n",
        "testX = testX.reshape((testX.shape[0], 28, 28, 1))\n",
        "\n",
        "\"\"\"이미지 미리보기\n",
        "plt.imshow(trainX[1])\n",
        "plt.gray()      #회색으로 보이게 \n",
        "plt.colorbar()  #색상 수치화\n",
        "plt.show()\"\"\"\n"
      ],
      "metadata": {
        "colab": {
          "base_uri": "https://localhost:8080/",
          "height": 182
        },
        "id": "MMDkjlXiI-Rw",
        "outputId": "f6387215-1ae2-4af7-b7f6-916710dd1476"
      },
      "execution_count": 2,
      "outputs": [
        {
          "output_type": "stream",
          "name": "stdout",
          "text": [
            "Downloading data from https://storage.googleapis.com/tensorflow/tf-keras-datasets/train-labels-idx1-ubyte.gz\n",
            "29515/29515 [==============================] - 0s 0us/step\n",
            "Downloading data from https://storage.googleapis.com/tensorflow/tf-keras-datasets/train-images-idx3-ubyte.gz\n",
            "26421880/26421880 [==============================] - 0s 0us/step\n",
            "Downloading data from https://storage.googleapis.com/tensorflow/tf-keras-datasets/t10k-labels-idx1-ubyte.gz\n",
            "5148/5148 [==============================] - 0s 0us/step\n",
            "Downloading data from https://storage.googleapis.com/tensorflow/tf-keras-datasets/t10k-images-idx3-ubyte.gz\n",
            "4422102/4422102 [==============================] - 0s 0us/step\n"
          ]
        },
        {
          "output_type": "execute_result",
          "data": {
            "text/plain": [
              "'이미지 미리보기\\nplt.imshow(trainX[1])\\nplt.gray()      #회색으로 보이게 \\nplt.colorbar()  #색상 수치화\\nplt.show()'"
            ],
            "application/vnd.google.colaboratory.intrinsic+json": {
              "type": "string"
            }
          },
          "metadata": {},
          "execution_count": 2
        }
      ]
    },
    {
      "cell_type": "code",
      "source": [
        "classs_names =['T-shirt/top', 'Trouser','Pullover', 'Dress','Coat', 'Sandal', 'Shirt', 'Sneaker', 'Bag' , 'Ankleboot']\n",
        "\n",
        "model = tf.keras.Sequential([\n",
        "    tf.keras.layers.Conv2D(32, (3,3), padding=\"same\", activation='relu', input_shape=(28,28,1)), #32개의 다른 feature 생성 / (3,3)은 kernel 가로세로 사이즈 / 이미지 사이즈 작아지는거 감소용/ 이미지는 -값이 없으니까 -값은 다 0으로 바꿔주는 relu함수 사용\n",
        "    tf.keras.layers.MaxPooling2D((2,2)),  #사이즈 줄이고 중요 정보 가운데로 모아줌\n",
        "     #tf.keras.layers.Dense(128, input_shape=(28,28), activation='relu'),\n",
        "    tf.keras.layers.Flatten(),  #행렬을 1차원으로 압축해주는 레이어\n",
        "    tf.keras.layers.Dense(64, activation='relu'),\n",
        "    tf.keras.layers.Dense(10, activation='softmax'),  #각 의류일 확률을 출력하게\n",
        "])\n",
        "\n",
        "#모델 아웃라인 출력해보기 (.summary() 쓰려면 위에  input_shape를 넣어줘야 한다.)\n",
        "model.summary()\n",
        "\n",
        "#출력에 Param은 학습가능한 w,b 갯수를 뜻한다.\n",
        "\n",
        "\n",
        "model.compile(loss=\"sparse_categorical_crossentropy\", optimizer=\"adam\", metrics=[\"accuracy\"])\n",
        "model.fit(trainX, trainY, validation_data=(testX, testY) ,epochs=5)\n"
      ],
      "metadata": {
        "colab": {
          "base_uri": "https://localhost:8080/"
        },
        "id": "dy9TyDodRnD5",
        "outputId": "408cb1a1-9ad3-4fee-e89d-016c2797aa62"
      },
      "execution_count": 3,
      "outputs": [
        {
          "output_type": "stream",
          "name": "stdout",
          "text": [
            "Model: \"sequential\"\n",
            "_________________________________________________________________\n",
            " Layer (type)                Output Shape              Param #   \n",
            "=================================================================\n",
            " conv2d (Conv2D)             (None, 28, 28, 32)        320       \n",
            "                                                                 \n",
            " max_pooling2d (MaxPooling2D  (None, 14, 14, 32)       0         \n",
            " )                                                               \n",
            "                                                                 \n",
            " flatten (Flatten)           (None, 6272)              0         \n",
            "                                                                 \n",
            " dense (Dense)               (None, 64)                401472    \n",
            "                                                                 \n",
            " dense_1 (Dense)             (None, 10)                650       \n",
            "                                                                 \n",
            "=================================================================\n",
            "Total params: 402,442\n",
            "Trainable params: 402,442\n",
            "Non-trainable params: 0\n",
            "_________________________________________________________________\n",
            "Epoch 1/5\n",
            "1875/1875 [==============================] - 13s 3ms/step - loss: 0.8409 - accuracy: 0.8434 - val_loss: 0.3457 - val_accuracy: 0.8785\n",
            "Epoch 2/5\n",
            "1875/1875 [==============================] - 6s 3ms/step - loss: 0.2888 - accuracy: 0.8960 - val_loss: 0.3293 - val_accuracy: 0.8889\n",
            "Epoch 3/5\n",
            "1875/1875 [==============================] - 6s 3ms/step - loss: 0.2537 - accuracy: 0.9076 - val_loss: 0.3138 - val_accuracy: 0.8932\n",
            "Epoch 4/5\n",
            "1875/1875 [==============================] - 6s 3ms/step - loss: 0.2346 - accuracy: 0.9141 - val_loss: 0.3227 - val_accuracy: 0.8939\n",
            "Epoch 5/5\n",
            "1875/1875 [==============================] - 5s 3ms/step - loss: 0.2145 - accuracy: 0.9210 - val_loss: 0.3631 - val_accuracy: 0.8799\n"
          ]
        },
        {
          "output_type": "execute_result",
          "data": {
            "text/plain": [
              "<keras.callbacks.History at 0x7f03002a60d0>"
            ]
          },
          "metadata": {},
          "execution_count": 3
        }
      ]
    },
    {
      "cell_type": "code",
      "source": [
        "#테스트용 데이터로 모델평가\n",
        "score = model.evaluate(testX, testY)\n",
        "print(score)"
      ],
      "metadata": {
        "colab": {
          "base_uri": "https://localhost:8080/"
        },
        "id": "6GsGh582PnPe",
        "outputId": "a8cfea10-43cc-4808-98c2-7cb2d2f733a1"
      },
      "execution_count": 4,
      "outputs": [
        {
          "output_type": "stream",
          "name": "stdout",
          "text": [
            "313/313 [==============================] - 1s 2ms/step - loss: 0.3631 - accuracy: 0.8799\n",
            "[0.3631038963794708, 0.8798999786376953]\n"
          ]
        }
      ]
    },
    {
      "cell_type": "markdown",
      "source": [
        "학습용 데이터는 오버피팅이 되기때문에 테스트용 데이터로 모델평가했을 때 loss와 accuracy가 차이가 난다."
      ],
      "metadata": {
        "id": "6cfvCkdfHnE7"
      }
    }
  ]
}